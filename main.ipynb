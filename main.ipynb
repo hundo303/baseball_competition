{
 "cells": [
  {
   "cell_type": "code",
   "execution_count": 27,
   "metadata": {
    "collapsed": true
   },
   "outputs": [],
   "source": [
    "import numpy as np\n",
    "import pandas as pd\n",
    "from sklearn.linear_model import LogisticRegression"
   ]
  },
  {
   "cell_type": "code",
   "execution_count": 28,
   "outputs": [],
   "source": [
    "# TODO\n",
    "# 選手名を特長量化\n",
    "# 球種、球速、コースを予測するモデルを作成し、特長量化\n",
    "# アルゴリズムの確認\n",
    "# 特長量の有用性の確認"
   ],
   "metadata": {
    "collapsed": false,
    "pycharm": {
     "name": "#%%\n"
    }
   }
  },
  {
   "cell_type": "code",
   "execution_count": 29,
   "outputs": [],
   "source": [
    "train = pd.read_csv('./input/train_data.csv')\n",
    "test = pd.read_csv('./input/test_data.csv')"
   ],
   "metadata": {
    "collapsed": false,
    "pycharm": {
     "name": "#%%\n"
    }
   }
  },
  {
   "cell_type": "code",
   "execution_count": 30,
   "outputs": [],
   "source": [
    "y_train = train['y']\n",
    "X_train = train.drop(columns=['id', 'gameID', 'pitchType', 'speed', 'ballPositionLabel', 'ballX', 'ballY', 'dir', 'dist', 'battingType', 'isOuts', 'y'])\n",
    "X_test = test.drop(columns=['id', 'gameID'])"
   ],
   "metadata": {
    "collapsed": false,
    "pycharm": {
     "name": "#%%\n"
    }
   }
  },
  {
   "cell_type": "code",
   "execution_count": 31,
   "outputs": [],
   "source": [
    "# 0,1への変換\n",
    "rep_dict = {False: 0, True: 1}\n",
    "X_train.replace({'b1': rep_dict, 'b2': rep_dict, 'b3': rep_dict}, inplace=True)\n",
    "X_test.replace({'b1': rep_dict, 'b2': rep_dict, 'b3': rep_dict}, inplace=True)\n",
    "\n",
    "rep_dict = {'R': 0, 'L': 1}\n",
    "X_train.replace({'pitcherHand': rep_dict, 'batterHand': rep_dict}, inplace=True)\n",
    "X_test.replace({'pitcherHand': rep_dict, 'batterHand': rep_dict}, inplace=True)"
   ],
   "metadata": {
    "collapsed": false,
    "pycharm": {
     "name": "#%%\n"
    }
   }
  },
  {
   "cell_type": "code",
   "execution_count": 32,
   "outputs": [],
   "source": [
    "# 選手名を数字に変換(train)\n",
    "pitcher_dict = X_train['pitcher'].value_counts().to_dict()\n",
    "batter_dict = X_train['batter'].value_counts().to_dict()\n",
    "\n",
    "pitcher_id = {}\n",
    "batter_id = {}\n",
    "\n",
    "i = 0\n",
    "for pitcher in pitcher_dict.keys():\n",
    "    pitcher_id[pitcher] = i\n",
    "    i += 1\n",
    "\n",
    "i = 0\n",
    "for batter in batter_dict.keys():\n",
    "    batter_id[batter] = i\n",
    "    i += 1\n",
    "\n",
    "# testのみに存在する選手のidを-1に設定\n",
    "for pitcher_test in X_test['pitcher'].value_counts().to_dict().keys():\n",
    "    if not pitcher_test in pitcher_id:\n",
    "        pitcher_id[pitcher_test] = -1\n",
    "\n",
    "for batter_test in X_test['batter'].value_counts().to_dict().keys():\n",
    "    if not batter_test in batter_id:\n",
    "        batter_id[batter_test] = -1\n",
    "\n",
    "X_train.replace({'pitcher': pitcher_id, 'batter': batter_id}, inplace=True)\n",
    "X_test.replace({'pitcher': pitcher_id, 'batter': batter_id}, inplace=True)"
   ],
   "metadata": {
    "collapsed": false,
    "pycharm": {
     "name": "#%%\n"
    }
   }
  },
  {
   "cell_type": "code",
   "execution_count": 32,
   "outputs": [],
   "source": [],
   "metadata": {
    "collapsed": false,
    "pycharm": {
     "name": "#%%\n"
    }
   }
  },
  {
   "cell_type": "code",
   "execution_count": 33,
   "outputs": [],
   "source": [
    "# イニングと裏表を別のカラムにして裏表を0,1に変換\n",
    "X_train.loc[X_train['inning'].str[-1] == '表', 'top_bottom'] = 0\n",
    "X_train.loc[X_train['inning'].str[-1] == '裏', 'top_bottom'] = 1\n",
    "X_train['inning'] = X_train['inning'].str[:-2]\n",
    "\n",
    "X_test.loc[X_test['inning'].str[-1] == '表', 'top_bottom'] = 0\n",
    "X_test.loc[X_test['inning'].str[-1] == '裏', 'top_bottom'] = 1\n",
    "X_test['inning'] = X_test['inning'].str[:-2]"
   ],
   "metadata": {
    "collapsed": false,
    "pycharm": {
     "name": "#%%\n"
    }
   }
  },
  {
   "cell_type": "code",
   "execution_count": 34,
   "outputs": [],
   "source": [
    "#　欠損値の埋め合わせ\n",
    "X_train.fillna({'batterHand' :0, 'pitcherHand': 0, 'pitcher': -1, 'batter': -1}, inplace=True)\n",
    "X_train[['pitcherHand', 'batterHand', 'inning', 'top_bottom', 'pitcher', 'batter']] = X_train[['pitcherHand', 'batterHand', 'inning', 'top_bottom', 'pitcher', 'batter']].astype(int)\n",
    "\n",
    "X_test.fillna({'batterHand' :0, 'pitcherHand': 0, 'pitcher': -1, 'batter': -1}, inplace=True)\n",
    "X_test[['pitcherHand', 'batterHand', 'inning', 'top_bottom', 'pitcher', 'batter']] = X_test[['pitcherHand', 'batterHand', 'inning', 'top_bottom', 'pitcher', 'batter']].astype(int)"
   ],
   "metadata": {
    "collapsed": false,
    "pycharm": {
     "name": "#%%\n"
    }
   }
  },
  {
   "cell_type": "code",
   "execution_count": 35,
   "outputs": [
    {
     "data": {
      "text/plain": "dtype('int32')"
     },
     "execution_count": 35,
     "metadata": {},
     "output_type": "execute_result"
    }
   ],
   "source": [
    "X_test['pitcher'].dtype"
   ],
   "metadata": {
    "collapsed": false,
    "pycharm": {
     "name": "#%%\n"
    }
   }
  },
  {
   "cell_type": "code",
   "execution_count": 36,
   "outputs": [
    {
     "name": "stderr",
     "output_type": "stream",
     "text": [
      "D:\\anaconda3\\envs\\baseball_comp\\lib\\site-packages\\sklearn\\linear_model\\_logistic.py:763: ConvergenceWarning: lbfgs failed to converge (status=1):\n",
      "STOP: TOTAL NO. of ITERATIONS REACHED LIMIT.\n",
      "\n",
      "Increase the number of iterations (max_iter) or scale the data as shown in:\n",
      "    https://scikit-learn.org/stable/modules/preprocessing.html\n",
      "Please also refer to the documentation for alternative solver options:\n",
      "    https://scikit-learn.org/stable/modules/linear_model.html#logistic-regression\n",
      "  n_iter_i = _check_optimize_result(\n"
     ]
    },
    {
     "data": {
      "text/plain": "LogisticRegression()"
     },
     "execution_count": 36,
     "metadata": {},
     "output_type": "execute_result"
    }
   ],
   "source": [
    "# モデルの作成\n",
    "clf = LogisticRegression()\n",
    "clf.fit(X_train, y_train)"
   ],
   "metadata": {
    "collapsed": false,
    "pycharm": {
     "name": "#%%\n"
    }
   }
  },
  {
   "cell_type": "code",
   "execution_count": 37,
   "outputs": [],
   "source": [
    "y_pred = clf.predict(X_test)"
   ],
   "metadata": {
    "collapsed": false,
    "pycharm": {
     "name": "#%%\n"
    }
   }
  },
  {
   "cell_type": "code",
   "execution_count": 38,
   "outputs": [
    {
     "name": "stderr",
     "output_type": "stream",
     "text": [
      "<ipython-input-38-8e283a71db6f>:2: SettingWithCopyWarning: \n",
      "A value is trying to be set on a copy of a slice from a DataFrame.\n",
      "Try using .loc[row_indexer,col_indexer] = value instead\n",
      "\n",
      "See the caveats in the documentation: https://pandas.pydata.org/pandas-docs/stable/user_guide/indexing.html#returning-a-view-versus-a-copy\n",
      "  y_test['y'] = y_pred\n"
     ]
    }
   ],
   "source": [
    "y_test = test[['id']]\n",
    "y_test['y'] = y_pred\n",
    "y_pred = y_test"
   ],
   "metadata": {
    "collapsed": false,
    "pycharm": {
     "name": "#%%\n"
    }
   }
  },
  {
   "cell_type": "code",
   "execution_count": 39,
   "outputs": [],
   "source": [
    "y_pred.to_csv('output/y_pred.csv', index=False)\n"
   ],
   "metadata": {
    "collapsed": false,
    "pycharm": {
     "name": "#%%\n"
    }
   }
  }
 ],
 "metadata": {
  "kernelspec": {
   "display_name": "Python 3",
   "language": "python",
   "name": "python3"
  },
  "language_info": {
   "codemirror_mode": {
    "name": "ipython",
    "version": 2
   },
   "file_extension": ".py",
   "mimetype": "text/x-python",
   "name": "python",
   "nbconvert_exporter": "python",
   "pygments_lexer": "ipython2",
   "version": "2.7.6"
  }
 },
 "nbformat": 4,
 "nbformat_minor": 0
}